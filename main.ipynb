{
 "cells": [
  {
   "cell_type": "code",
   "execution_count": 63,
   "metadata": {},
   "outputs": [],
   "source": [
    "import pandas as pd\n",
    "import matplotlib.pyplot as plt\n",
    "import seaborn as sns\n",
    "%matplotlib inline\n",
    "import tensorflow as tf\n",
    "from sklearn.model_selection import train_test_split\n",
    "import numpy as np\n",
    "import math"
   ]
  },
  {
   "cell_type": "code",
   "execution_count": 2,
   "metadata": {},
   "outputs": [],
   "source": [
    "data = pd.read_csv('./train.csv')"
   ]
  },
  {
   "cell_type": "code",
   "execution_count": 3,
   "metadata": {},
   "outputs": [
    {
     "data": {
      "text/html": [
       "<div>\n",
       "<style scoped>\n",
       "    .dataframe tbody tr th:only-of-type {\n",
       "        vertical-align: middle;\n",
       "    }\n",
       "\n",
       "    .dataframe tbody tr th {\n",
       "        vertical-align: top;\n",
       "    }\n",
       "\n",
       "    .dataframe thead th {\n",
       "        text-align: right;\n",
       "    }\n",
       "</style>\n",
       "<table border=\"1\" class=\"dataframe\">\n",
       "  <thead>\n",
       "    <tr style=\"text-align: right;\">\n",
       "      <th></th>\n",
       "      <th>Id</th>\n",
       "      <th>MSSubClass</th>\n",
       "      <th>MSZoning</th>\n",
       "      <th>LotFrontage</th>\n",
       "      <th>LotArea</th>\n",
       "      <th>Street</th>\n",
       "      <th>Alley</th>\n",
       "      <th>LotShape</th>\n",
       "      <th>LandContour</th>\n",
       "      <th>Utilities</th>\n",
       "      <th>...</th>\n",
       "      <th>PoolArea</th>\n",
       "      <th>PoolQC</th>\n",
       "      <th>Fence</th>\n",
       "      <th>MiscFeature</th>\n",
       "      <th>MiscVal</th>\n",
       "      <th>MoSold</th>\n",
       "      <th>YrSold</th>\n",
       "      <th>SaleType</th>\n",
       "      <th>SaleCondition</th>\n",
       "      <th>SalePrice</th>\n",
       "    </tr>\n",
       "  </thead>\n",
       "  <tbody>\n",
       "    <tr>\n",
       "      <th>0</th>\n",
       "      <td>1</td>\n",
       "      <td>60</td>\n",
       "      <td>RL</td>\n",
       "      <td>65.0</td>\n",
       "      <td>8450</td>\n",
       "      <td>Pave</td>\n",
       "      <td>NaN</td>\n",
       "      <td>Reg</td>\n",
       "      <td>Lvl</td>\n",
       "      <td>AllPub</td>\n",
       "      <td>...</td>\n",
       "      <td>0</td>\n",
       "      <td>NaN</td>\n",
       "      <td>NaN</td>\n",
       "      <td>NaN</td>\n",
       "      <td>0</td>\n",
       "      <td>2</td>\n",
       "      <td>2008</td>\n",
       "      <td>WD</td>\n",
       "      <td>Normal</td>\n",
       "      <td>208500</td>\n",
       "    </tr>\n",
       "    <tr>\n",
       "      <th>1</th>\n",
       "      <td>2</td>\n",
       "      <td>20</td>\n",
       "      <td>RL</td>\n",
       "      <td>80.0</td>\n",
       "      <td>9600</td>\n",
       "      <td>Pave</td>\n",
       "      <td>NaN</td>\n",
       "      <td>Reg</td>\n",
       "      <td>Lvl</td>\n",
       "      <td>AllPub</td>\n",
       "      <td>...</td>\n",
       "      <td>0</td>\n",
       "      <td>NaN</td>\n",
       "      <td>NaN</td>\n",
       "      <td>NaN</td>\n",
       "      <td>0</td>\n",
       "      <td>5</td>\n",
       "      <td>2007</td>\n",
       "      <td>WD</td>\n",
       "      <td>Normal</td>\n",
       "      <td>181500</td>\n",
       "    </tr>\n",
       "    <tr>\n",
       "      <th>2</th>\n",
       "      <td>3</td>\n",
       "      <td>60</td>\n",
       "      <td>RL</td>\n",
       "      <td>68.0</td>\n",
       "      <td>11250</td>\n",
       "      <td>Pave</td>\n",
       "      <td>NaN</td>\n",
       "      <td>IR1</td>\n",
       "      <td>Lvl</td>\n",
       "      <td>AllPub</td>\n",
       "      <td>...</td>\n",
       "      <td>0</td>\n",
       "      <td>NaN</td>\n",
       "      <td>NaN</td>\n",
       "      <td>NaN</td>\n",
       "      <td>0</td>\n",
       "      <td>9</td>\n",
       "      <td>2008</td>\n",
       "      <td>WD</td>\n",
       "      <td>Normal</td>\n",
       "      <td>223500</td>\n",
       "    </tr>\n",
       "    <tr>\n",
       "      <th>3</th>\n",
       "      <td>4</td>\n",
       "      <td>70</td>\n",
       "      <td>RL</td>\n",
       "      <td>60.0</td>\n",
       "      <td>9550</td>\n",
       "      <td>Pave</td>\n",
       "      <td>NaN</td>\n",
       "      <td>IR1</td>\n",
       "      <td>Lvl</td>\n",
       "      <td>AllPub</td>\n",
       "      <td>...</td>\n",
       "      <td>0</td>\n",
       "      <td>NaN</td>\n",
       "      <td>NaN</td>\n",
       "      <td>NaN</td>\n",
       "      <td>0</td>\n",
       "      <td>2</td>\n",
       "      <td>2006</td>\n",
       "      <td>WD</td>\n",
       "      <td>Abnorml</td>\n",
       "      <td>140000</td>\n",
       "    </tr>\n",
       "    <tr>\n",
       "      <th>4</th>\n",
       "      <td>5</td>\n",
       "      <td>60</td>\n",
       "      <td>RL</td>\n",
       "      <td>84.0</td>\n",
       "      <td>14260</td>\n",
       "      <td>Pave</td>\n",
       "      <td>NaN</td>\n",
       "      <td>IR1</td>\n",
       "      <td>Lvl</td>\n",
       "      <td>AllPub</td>\n",
       "      <td>...</td>\n",
       "      <td>0</td>\n",
       "      <td>NaN</td>\n",
       "      <td>NaN</td>\n",
       "      <td>NaN</td>\n",
       "      <td>0</td>\n",
       "      <td>12</td>\n",
       "      <td>2008</td>\n",
       "      <td>WD</td>\n",
       "      <td>Normal</td>\n",
       "      <td>250000</td>\n",
       "    </tr>\n",
       "  </tbody>\n",
       "</table>\n",
       "<p>5 rows × 81 columns</p>\n",
       "</div>"
      ],
      "text/plain": [
       "   Id  MSSubClass MSZoning  LotFrontage  LotArea Street Alley LotShape  \\\n",
       "0   1          60       RL         65.0     8450   Pave   NaN      Reg   \n",
       "1   2          20       RL         80.0     9600   Pave   NaN      Reg   \n",
       "2   3          60       RL         68.0    11250   Pave   NaN      IR1   \n",
       "3   4          70       RL         60.0     9550   Pave   NaN      IR1   \n",
       "4   5          60       RL         84.0    14260   Pave   NaN      IR1   \n",
       "\n",
       "  LandContour Utilities    ...     PoolArea PoolQC Fence MiscFeature MiscVal  \\\n",
       "0         Lvl    AllPub    ...            0    NaN   NaN         NaN       0   \n",
       "1         Lvl    AllPub    ...            0    NaN   NaN         NaN       0   \n",
       "2         Lvl    AllPub    ...            0    NaN   NaN         NaN       0   \n",
       "3         Lvl    AllPub    ...            0    NaN   NaN         NaN       0   \n",
       "4         Lvl    AllPub    ...            0    NaN   NaN         NaN       0   \n",
       "\n",
       "  MoSold YrSold  SaleType  SaleCondition  SalePrice  \n",
       "0      2   2008        WD         Normal     208500  \n",
       "1      5   2007        WD         Normal     181500  \n",
       "2      9   2008        WD         Normal     223500  \n",
       "3      2   2006        WD        Abnorml     140000  \n",
       "4     12   2008        WD         Normal     250000  \n",
       "\n",
       "[5 rows x 81 columns]"
      ]
     },
     "execution_count": 3,
     "metadata": {},
     "output_type": "execute_result"
    }
   ],
   "source": [
    "data.head()"
   ]
  },
  {
   "cell_type": "code",
   "execution_count": null,
   "metadata": {},
   "outputs": [],
   "source": []
  },
  {
   "cell_type": "code",
   "execution_count": 4,
   "metadata": {},
   "outputs": [
    {
     "data": {
      "text/html": [
       "<div>\n",
       "<style scoped>\n",
       "    .dataframe tbody tr th:only-of-type {\n",
       "        vertical-align: middle;\n",
       "    }\n",
       "\n",
       "    .dataframe tbody tr th {\n",
       "        vertical-align: top;\n",
       "    }\n",
       "\n",
       "    .dataframe thead th {\n",
       "        text-align: right;\n",
       "    }\n",
       "</style>\n",
       "<table border=\"1\" class=\"dataframe\">\n",
       "  <thead>\n",
       "    <tr style=\"text-align: right;\">\n",
       "      <th></th>\n",
       "      <th>Total</th>\n",
       "      <th>Percent</th>\n",
       "    </tr>\n",
       "  </thead>\n",
       "  <tbody>\n",
       "    <tr>\n",
       "      <th>PoolQC</th>\n",
       "      <td>1453</td>\n",
       "      <td>0.995205</td>\n",
       "    </tr>\n",
       "    <tr>\n",
       "      <th>MiscFeature</th>\n",
       "      <td>1406</td>\n",
       "      <td>0.963014</td>\n",
       "    </tr>\n",
       "    <tr>\n",
       "      <th>Alley</th>\n",
       "      <td>1369</td>\n",
       "      <td>0.937671</td>\n",
       "    </tr>\n",
       "    <tr>\n",
       "      <th>Fence</th>\n",
       "      <td>1179</td>\n",
       "      <td>0.807534</td>\n",
       "    </tr>\n",
       "    <tr>\n",
       "      <th>FireplaceQu</th>\n",
       "      <td>690</td>\n",
       "      <td>0.472603</td>\n",
       "    </tr>\n",
       "    <tr>\n",
       "      <th>LotFrontage</th>\n",
       "      <td>259</td>\n",
       "      <td>0.177397</td>\n",
       "    </tr>\n",
       "    <tr>\n",
       "      <th>GarageCond</th>\n",
       "      <td>81</td>\n",
       "      <td>0.055479</td>\n",
       "    </tr>\n",
       "    <tr>\n",
       "      <th>GarageType</th>\n",
       "      <td>81</td>\n",
       "      <td>0.055479</td>\n",
       "    </tr>\n",
       "    <tr>\n",
       "      <th>GarageYrBlt</th>\n",
       "      <td>81</td>\n",
       "      <td>0.055479</td>\n",
       "    </tr>\n",
       "    <tr>\n",
       "      <th>GarageFinish</th>\n",
       "      <td>81</td>\n",
       "      <td>0.055479</td>\n",
       "    </tr>\n",
       "    <tr>\n",
       "      <th>GarageQual</th>\n",
       "      <td>81</td>\n",
       "      <td>0.055479</td>\n",
       "    </tr>\n",
       "    <tr>\n",
       "      <th>BsmtExposure</th>\n",
       "      <td>38</td>\n",
       "      <td>0.026027</td>\n",
       "    </tr>\n",
       "    <tr>\n",
       "      <th>BsmtFinType2</th>\n",
       "      <td>38</td>\n",
       "      <td>0.026027</td>\n",
       "    </tr>\n",
       "    <tr>\n",
       "      <th>BsmtFinType1</th>\n",
       "      <td>37</td>\n",
       "      <td>0.025342</td>\n",
       "    </tr>\n",
       "    <tr>\n",
       "      <th>BsmtCond</th>\n",
       "      <td>37</td>\n",
       "      <td>0.025342</td>\n",
       "    </tr>\n",
       "    <tr>\n",
       "      <th>BsmtQual</th>\n",
       "      <td>37</td>\n",
       "      <td>0.025342</td>\n",
       "    </tr>\n",
       "    <tr>\n",
       "      <th>MasVnrArea</th>\n",
       "      <td>8</td>\n",
       "      <td>0.005479</td>\n",
       "    </tr>\n",
       "    <tr>\n",
       "      <th>MasVnrType</th>\n",
       "      <td>8</td>\n",
       "      <td>0.005479</td>\n",
       "    </tr>\n",
       "    <tr>\n",
       "      <th>Electrical</th>\n",
       "      <td>1</td>\n",
       "      <td>0.000685</td>\n",
       "    </tr>\n",
       "    <tr>\n",
       "      <th>Utilities</th>\n",
       "      <td>0</td>\n",
       "      <td>0.000000</td>\n",
       "    </tr>\n",
       "    <tr>\n",
       "      <th>YearRemodAdd</th>\n",
       "      <td>0</td>\n",
       "      <td>0.000000</td>\n",
       "    </tr>\n",
       "    <tr>\n",
       "      <th>MSSubClass</th>\n",
       "      <td>0</td>\n",
       "      <td>0.000000</td>\n",
       "    </tr>\n",
       "  </tbody>\n",
       "</table>\n",
       "</div>"
      ],
      "text/plain": [
       "              Total   Percent\n",
       "PoolQC         1453  0.995205\n",
       "MiscFeature    1406  0.963014\n",
       "Alley          1369  0.937671\n",
       "Fence          1179  0.807534\n",
       "FireplaceQu     690  0.472603\n",
       "LotFrontage     259  0.177397\n",
       "GarageCond       81  0.055479\n",
       "GarageType       81  0.055479\n",
       "GarageYrBlt      81  0.055479\n",
       "GarageFinish     81  0.055479\n",
       "GarageQual       81  0.055479\n",
       "BsmtExposure     38  0.026027\n",
       "BsmtFinType2     38  0.026027\n",
       "BsmtFinType1     37  0.025342\n",
       "BsmtCond         37  0.025342\n",
       "BsmtQual         37  0.025342\n",
       "MasVnrArea        8  0.005479\n",
       "MasVnrType        8  0.005479\n",
       "Electrical        1  0.000685\n",
       "Utilities         0  0.000000\n",
       "YearRemodAdd      0  0.000000\n",
       "MSSubClass        0  0.000000"
      ]
     },
     "execution_count": 4,
     "metadata": {},
     "output_type": "execute_result"
    }
   ],
   "source": [
    "# missing data\n",
    "total = data.isnull().sum().sort_values(ascending=False)\n",
    "percent = (data.isnull().sum()/data.isnull().count()).sort_values(ascending=False)\n",
    "missing_data = pd.concat([total, percent], axis=1, keys=['Total', 'Percent'])\n",
    "missing_data.head(22)"
   ]
  },
  {
   "cell_type": "code",
   "execution_count": 5,
   "metadata": {},
   "outputs": [],
   "source": [
    "data['MSZoning'] = data['MSZoning'].map({'RL':1 , 'RM':2 , 'C (all)': 3, 'FV':4, 'RH':5})"
   ]
  },
  {
   "cell_type": "code",
   "execution_count": 6,
   "metadata": {},
   "outputs": [],
   "source": [
    "# data[''] = data[''].map({})"
   ]
  },
  {
   "cell_type": "code",
   "execution_count": 7,
   "metadata": {},
   "outputs": [
    {
     "data": {
      "text/plain": [
       "array(['Normal', 'Abnorml', 'Partial', 'AdjLand', 'Alloca', 'Family'],\n",
       "      dtype=object)"
      ]
     },
     "execution_count": 7,
     "metadata": {},
     "output_type": "execute_result"
    }
   ],
   "source": [
    "data['SaleCondition'].unique()"
   ]
  },
  {
   "cell_type": "code",
   "execution_count": 8,
   "metadata": {},
   "outputs": [],
   "source": [
    "# data[''] = data[''].map({})"
   ]
  },
  {
   "cell_type": "code",
   "execution_count": 9,
   "metadata": {
    "collapsed": true
   },
   "outputs": [],
   "source": [
    "data['SaleCondition'] = data['SaleCondition'].map({'Normal':1, 'Abnorml':2, 'Partial':3, 'AdjLand':4, 'Alloca':5, 'Family':6})"
   ]
  },
  {
   "cell_type": "code",
   "execution_count": 10,
   "metadata": {
    "collapsed": true
   },
   "outputs": [],
   "source": [
    "data['SaleType'] = data['SaleType'].map({'WD':1, 'New':2, 'COD':3, 'ConLD':4, 'ConLI':5, 'CWD':6, 'ConLw':7, 'Con':8, 'Oth':9})"
   ]
  },
  {
   "cell_type": "code",
   "execution_count": 11,
   "metadata": {
    "collapsed": true
   },
   "outputs": [],
   "source": [
    "data['PavedDrive'] = data['PavedDrive'].map({'Y':1, 'N':2, 'P':3})"
   ]
  },
  {
   "cell_type": "code",
   "execution_count": 12,
   "metadata": {},
   "outputs": [],
   "source": [
    "data['Functional'] = data['Functional'].map({'Typ':1, 'Min1':2, 'Maj1':3, 'Min2':4, 'Mod':5, 'Maj2':6, 'Sev':7})"
   ]
  },
  {
   "cell_type": "code",
   "execution_count": 13,
   "metadata": {
    "collapsed": true
   },
   "outputs": [],
   "source": [
    "data['KitchenQual'] = data['KitchenQual'].map({'Gd':1, 'TA':2, 'Ex':3, 'Fa':4})"
   ]
  },
  {
   "cell_type": "code",
   "execution_count": 14,
   "metadata": {
    "collapsed": true
   },
   "outputs": [],
   "source": [
    "data['Electrical'] = data['Electrical'].map({'SBrkr':1, 'FuseF':2, 'FuseA':3, 'FuseP':4, 'Mix':5})"
   ]
  },
  {
   "cell_type": "code",
   "execution_count": 15,
   "metadata": {
    "collapsed": true
   },
   "outputs": [],
   "source": [
    "data['CentralAir'] = data['CentralAir'].map({'Y':1, 'N':2})"
   ]
  },
  {
   "cell_type": "code",
   "execution_count": 16,
   "metadata": {},
   "outputs": [],
   "source": [
    "data['HeatingQC'] = data['HeatingQC'].map({'Ex':1, 'Gd':2, 'TA':3, 'Fa':4, 'Po':5})"
   ]
  },
  {
   "cell_type": "code",
   "execution_count": 17,
   "metadata": {
    "collapsed": true
   },
   "outputs": [],
   "source": [
    "data['Heating'] = data['Heating'].map({'GasA':1, 'GasW':2, 'Grav':3, 'Wall':4, 'OthW':5, 'Floor':6})"
   ]
  },
  {
   "cell_type": "code",
   "execution_count": 18,
   "metadata": {},
   "outputs": [],
   "source": [
    "data['Foundation'] = data['Foundation'].map({'PConc':1, 'CBlock':2, 'BrkTil':3, 'Wood':4, 'Slab':5, 'Stone':6})"
   ]
  },
  {
   "cell_type": "code",
   "execution_count": 19,
   "metadata": {
    "collapsed": true
   },
   "outputs": [],
   "source": [
    "data['ExterCond'] = data['ExterCond'].map({'TA':1, 'Gd':2, 'Fa':3, 'Po':4, 'Ex':5})"
   ]
  },
  {
   "cell_type": "code",
   "execution_count": 20,
   "metadata": {
    "collapsed": true
   },
   "outputs": [],
   "source": [
    "data['ExterQual'] = data['ExterQual'].map({'Gd':1, 'TA':2, 'Ex':3, 'Fa':4})"
   ]
  },
  {
   "cell_type": "code",
   "execution_count": 21,
   "metadata": {
    "collapsed": true
   },
   "outputs": [],
   "source": [
    "data['Exterior2nd'] = data['Exterior2nd'].map({'VinylSd':1, 'MetalSd':2, 'Wd Shng':3, 'HdBoard':4, 'Plywood':5, 'Wd Sdng':6,\n",
    "       'CmentBd':7, 'BrkFace':8, 'Stucco':9, 'AsbShng':10, 'Brk Cmn':11, 'ImStucc':12,\n",
    "       'AsphShn':13, 'Stone':14, 'Other':15, 'CBlock':16})"
   ]
  },
  {
   "cell_type": "code",
   "execution_count": 22,
   "metadata": {
    "collapsed": true
   },
   "outputs": [],
   "source": [
    "data['Exterior1st'] = data['Exterior1st'].map({'VinylSd':1, 'MetalSd':2, 'Wd Sdng':3, 'HdBoard':4, 'BrkFace':5, 'WdShing':6,\n",
    "       'CemntBd':7, 'Plywood':8, 'AsbShng':9, 'Stucco':10, 'BrkComm':11, 'AsphShn':12,\n",
    "       'Stone':13, 'ImStucc':14, 'CBlock':15})"
   ]
  },
  {
   "cell_type": "code",
   "execution_count": 23,
   "metadata": {
    "collapsed": true
   },
   "outputs": [],
   "source": [
    "data['RoofStyle'] = data['RoofStyle'].map({'Gable':1, 'Hip':2, 'Gambrel':3, 'Mansard':4, 'Flat':5, 'Shed':6})"
   ]
  },
  {
   "cell_type": "code",
   "execution_count": 24,
   "metadata": {
    "collapsed": true
   },
   "outputs": [],
   "source": [
    "data['HouseStyle'] = data['HouseStyle'].map({'2Story':1, '1Story':2, '1.5Fin':3, '1.5Unf':4, 'SFoyer':5, 'SLvl':6, '2.5Unf':7,\n",
    "       '2.5Fin':8})"
   ]
  },
  {
   "cell_type": "code",
   "execution_count": 25,
   "metadata": {
    "collapsed": true
   },
   "outputs": [],
   "source": [
    "data['RoofMatl'] = data['RoofMatl'].map({'CompShg':1, 'WdShngl':2, 'Metal':3, 'WdShake':4, 'Membran':5, 'Tar&Grv':6,\n",
    "       'Roll':7, 'ClyTile':8})"
   ]
  },
  {
   "cell_type": "code",
   "execution_count": 26,
   "metadata": {
    "collapsed": true
   },
   "outputs": [],
   "source": [
    "data['BldgType'] = data['BldgType'].map({'1Fam':1, '2fmCon':2, 'Duplex':3, 'TwnhsE':4, 'Twnhs':5})"
   ]
  },
  {
   "cell_type": "code",
   "execution_count": 27,
   "metadata": {},
   "outputs": [],
   "source": [
    "data['Condition2'] = data['Condition2'].map({'Norm':1, 'Artery':2, 'RRNn':3, 'Feedr':4, 'PosN':5, 'PosA':6, 'RRAn':7, 'RRAe':8})"
   ]
  },
  {
   "cell_type": "code",
   "execution_count": 28,
   "metadata": {
    "collapsed": true
   },
   "outputs": [],
   "source": [
    "data['Condition1'] = data['Condition1'].map({'Norm':1, 'Feedr':2, 'PosN':3, 'Artery':4, 'RRAe':5, 'RRNn':6, 'RRAn':7, 'PosA':8,\n",
    "       'RRNe':9})"
   ]
  },
  {
   "cell_type": "code",
   "execution_count": 29,
   "metadata": {
    "collapsed": true
   },
   "outputs": [],
   "source": [
    "data['Neighborhood'] = data['Neighborhood'].map({'CollgCr':1, 'Veenker':2, 'Crawfor':3, 'NoRidge':4, 'Mitchel':5, 'Somerst':6,\n",
    "       'NWAmes':7, 'OldTown':8, 'BrkSide':9, 'Sawyer':10, 'NridgHt':11, 'NAmes':12,\n",
    "       'SawyerW':13, 'IDOTRR':14, 'MeadowV':15, 'Edwards':16, 'Timber':17, 'Gilbert':18,\n",
    "       'StoneBr':19, 'ClearCr':20, 'NPkVill':21, 'Blmngtn':22, 'BrDale':23, 'SWISU':24,\n",
    "       'Blueste':25})"
   ]
  },
  {
   "cell_type": "code",
   "execution_count": 30,
   "metadata": {
    "collapsed": true
   },
   "outputs": [],
   "source": [
    "data['LandSlope'] = data['LandSlope'].map({'Gtl':1, 'Mod':2, 'Sev':3})"
   ]
  },
  {
   "cell_type": "code",
   "execution_count": 31,
   "metadata": {
    "collapsed": true
   },
   "outputs": [],
   "source": [
    "data['Utilities'] = data['Utilities'].map({'AllPub':1, 'NoSeWa':2})"
   ]
  },
  {
   "cell_type": "code",
   "execution_count": 32,
   "metadata": {
    "collapsed": true
   },
   "outputs": [],
   "source": [
    "data['LotConfig'] = data['LotConfig'].map({'Inside':1, 'FR2':2, 'Corner':3, 'CulDSac':4, 'FR3':5})"
   ]
  },
  {
   "cell_type": "code",
   "execution_count": 33,
   "metadata": {
    "collapsed": true
   },
   "outputs": [],
   "source": [
    "data['LandContour'] = data['LandContour'].map({'Lvl':1, 'Bnk':2, 'Low':3, 'HLS':4})"
   ]
  },
  {
   "cell_type": "code",
   "execution_count": 34,
   "metadata": {},
   "outputs": [],
   "source": [
    "data['Street'] = data['Street'].map({'Pave':1 , 'Grvl':2})"
   ]
  },
  {
   "cell_type": "code",
   "execution_count": 35,
   "metadata": {
    "collapsed": true
   },
   "outputs": [],
   "source": [
    "data['LotShape'] = data['LotShape'].map({'Reg':1, 'IR1':2, 'IR2':3, 'IR3':4})"
   ]
  },
  {
   "cell_type": "code",
   "execution_count": 36,
   "metadata": {},
   "outputs": [
    {
     "data": {
      "text/plain": [
       "0"
      ]
     },
     "execution_count": 36,
     "metadata": {},
     "output_type": "execute_result"
    }
   ],
   "source": [
    "#dealing with missing data\n",
    "data = data.drop((missing_data[missing_data['Total'] > 1]).index,1)\n",
    "data = data.drop(data.loc[data['Electrical'].isnull()].index)\n",
    "data.isnull().sum().max()"
   ]
  },
  {
   "cell_type": "code",
   "execution_count": 37,
   "metadata": {},
   "outputs": [
    {
     "name": "stdout",
     "output_type": "stream",
     "text": [
      "<class 'pandas.core.frame.DataFrame'>\n",
      "Int64Index: 1459 entries, 0 to 1459\n",
      "Data columns (total 63 columns):\n",
      "Id               1459 non-null int64\n",
      "MSSubClass       1459 non-null int64\n",
      "MSZoning         1459 non-null int64\n",
      "LotArea          1459 non-null int64\n",
      "Street           1459 non-null int64\n",
      "LotShape         1459 non-null int64\n",
      "LandContour      1459 non-null int64\n",
      "Utilities        1459 non-null int64\n",
      "LotConfig        1459 non-null int64\n",
      "LandSlope        1459 non-null int64\n",
      "Neighborhood     1459 non-null int64\n",
      "Condition1       1459 non-null int64\n",
      "Condition2       1459 non-null int64\n",
      "BldgType         1459 non-null int64\n",
      "HouseStyle       1459 non-null int64\n",
      "OverallQual      1459 non-null int64\n",
      "OverallCond      1459 non-null int64\n",
      "YearBuilt        1459 non-null int64\n",
      "YearRemodAdd     1459 non-null int64\n",
      "RoofStyle        1459 non-null int64\n",
      "RoofMatl         1459 non-null int64\n",
      "Exterior1st      1459 non-null int64\n",
      "Exterior2nd      1459 non-null int64\n",
      "ExterQual        1459 non-null int64\n",
      "ExterCond        1459 non-null int64\n",
      "Foundation       1459 non-null int64\n",
      "BsmtFinSF1       1459 non-null int64\n",
      "BsmtFinSF2       1459 non-null int64\n",
      "BsmtUnfSF        1459 non-null int64\n",
      "TotalBsmtSF      1459 non-null int64\n",
      "Heating          1459 non-null int64\n",
      "HeatingQC        1459 non-null int64\n",
      "CentralAir       1459 non-null int64\n",
      "Electrical       1459 non-null float64\n",
      "1stFlrSF         1459 non-null int64\n",
      "2ndFlrSF         1459 non-null int64\n",
      "LowQualFinSF     1459 non-null int64\n",
      "GrLivArea        1459 non-null int64\n",
      "BsmtFullBath     1459 non-null int64\n",
      "BsmtHalfBath     1459 non-null int64\n",
      "FullBath         1459 non-null int64\n",
      "HalfBath         1459 non-null int64\n",
      "BedroomAbvGr     1459 non-null int64\n",
      "KitchenAbvGr     1459 non-null int64\n",
      "KitchenQual      1459 non-null int64\n",
      "TotRmsAbvGrd     1459 non-null int64\n",
      "Functional       1459 non-null int64\n",
      "Fireplaces       1459 non-null int64\n",
      "GarageCars       1459 non-null int64\n",
      "GarageArea       1459 non-null int64\n",
      "PavedDrive       1459 non-null int64\n",
      "WoodDeckSF       1459 non-null int64\n",
      "OpenPorchSF      1459 non-null int64\n",
      "EnclosedPorch    1459 non-null int64\n",
      "3SsnPorch        1459 non-null int64\n",
      "ScreenPorch      1459 non-null int64\n",
      "PoolArea         1459 non-null int64\n",
      "MiscVal          1459 non-null int64\n",
      "MoSold           1459 non-null int64\n",
      "YrSold           1459 non-null int64\n",
      "SaleType         1459 non-null int64\n",
      "SaleCondition    1459 non-null int64\n",
      "SalePrice        1459 non-null int64\n",
      "dtypes: float64(1), int64(62)\n",
      "memory usage: 729.5 KB\n"
     ]
    }
   ],
   "source": [
    "data.info()"
   ]
  },
  {
   "cell_type": "code",
   "execution_count": null,
   "metadata": {
    "collapsed": true
   },
   "outputs": [],
   "source": []
  },
  {
   "cell_type": "code",
   "execution_count": null,
   "metadata": {
    "collapsed": true
   },
   "outputs": [],
   "source": []
  },
  {
   "cell_type": "code",
   "execution_count": 38,
   "metadata": {},
   "outputs": [
    {
     "name": "stderr",
     "output_type": "stream",
     "text": [
      "/Users/midhunpk/anaconda3/lib/python3.6/site-packages/matplotlib/axes/_axes.py:6571: UserWarning: The 'normed' kwarg is deprecated, and has been replaced by the 'density' kwarg.\n",
      "  warnings.warn(\"The 'normed' kwarg is deprecated, and has been \"\n"
     ]
    },
    {
     "data": {
      "image/png": "[encoded data removed]",
      "text/plain": [
       "<Figure size 432x288 with 1 Axes>"
      ]
     },
     "metadata": {},
     "output_type": "display_data"
    }
   ],
   "source": [
    "sns.distplot(data['SalePrice']);"
   ]
  },
  {
   "cell_type": "code",
   "execution_count": 39,
   "metadata": {},
   "outputs": [
    {
     "data": {
      "text/plain": [
       "<matplotlib.axes._subplots.AxesSubplot at 0x10a55af60>"
      ]
     },
     "execution_count": 39,
     "metadata": {},
     "output_type": "execute_result"
    },
    {
     "data": {
      "image/png": "[encoded data removed]",
      "text/plain": [
       "<Figure size 432x288 with 1 Axes>"
      ]
     },
     "metadata": {},
     "output_type": "display_data"
    }
   ],
   "source": [
    "data['SalePrice'].hist(bins=5)"
   ]
  },
  {
   "cell_type": "code",
   "execution_count": null,
   "metadata": {},
   "outputs": [],
   "source": []
  },
  {
   "cell_type": "code",
   "execution_count": null,
   "metadata": {},
   "outputs": [],
   "source": []
  },
  {
   "cell_type": "code",
   "execution_count": 40,
   "metadata": {},
   "outputs": [],
   "source": [
    "# X_train = data[:800]\n",
    "# X_test = data[801:]"
   ]
  },
  {
   "cell_type": "code",
   "execution_count": 41,
   "metadata": {},
   "outputs": [],
   "source": [
    "# X_train = X_train.drop('SalePrice',axis = 1)\n",
    "# X_test = X_test.drop('SalePrice',axis = 1)"
   ]
  },
  {
   "cell_type": "code",
   "execution_count": 42,
   "metadata": {},
   "outputs": [],
   "source": [
    "target_label = data['SalePrice'].values\n",
    "target_label=target_label"
   ]
  },
  {
   "cell_type": "code",
   "execution_count": 43,
   "metadata": {},
   "outputs": [],
   "source": [
    "data=data.drop('SalePrice',axis = 1)"
   ]
  },
  {
   "cell_type": "code",
   "execution_count": 44,
   "metadata": {},
   "outputs": [
    {
     "data": {
      "text/plain": [
       "(1459, 1459)"
      ]
     },
     "execution_count": 44,
     "metadata": {},
     "output_type": "execute_result"
    }
   ],
   "source": [
    "len(data),len(target_label)"
   ]
  },
  {
   "cell_type": "code",
   "execution_count": null,
   "metadata": {
    "collapsed": true
   },
   "outputs": [],
   "source": []
  },
  {
   "cell_type": "code",
   "execution_count": 45,
   "metadata": {},
   "outputs": [],
   "source": [
    "train_X ,test_X ,train_y ,test_y = train_test_split(data, target_label, test_size=0.3, random_state=2018)"
   ]
  },
  {
   "cell_type": "code",
   "execution_count": 46,
   "metadata": {},
   "outputs": [
    {
     "data": {
      "text/plain": [
       "(1021, 62)"
      ]
     },
     "execution_count": 46,
     "metadata": {},
     "output_type": "execute_result"
    }
   ],
   "source": [
    "train_X.shape"
   ]
  },
  {
   "cell_type": "code",
   "execution_count": 47,
   "metadata": {},
   "outputs": [],
   "source": [
    "train_y = train_y.reshape(1021,1)"
   ]
  },
  {
   "cell_type": "code",
   "execution_count": 48,
   "metadata": {
    "collapsed": true
   },
   "outputs": [],
   "source": [
    "RANDOM_SEED = 15\n",
    "tf.set_random_seed(RANDOM_SEED)"
   ]
  },
  {
   "cell_type": "code",
   "execution_count": 49,
   "metadata": {
    "collapsed": true
   },
   "outputs": [],
   "source": [
    "def init_weights(shape):\n",
    "    weights = tf.random_normal(shape,stddev=0.01)\n",
    "    return tf.Variable(weights)"
   ]
  },
  {
   "cell_type": "code",
   "execution_count": 50,
   "metadata": {
    "collapsed": true
   },
   "outputs": [],
   "source": [
    "def forwardprop(X,w_1,w_2):\n",
    "    h = tf.nn.sigmoid(tf.matmul(X,w_1))\n",
    "    yhat = tf.matmul(h,w_2)\n",
    "    return yhat"
   ]
  },
  {
   "cell_type": "code",
   "execution_count": 52,
   "metadata": {},
   "outputs": [],
   "source": [
    "x_size = train_X.shape[1]   \n",
    "h_size = 256                \n",
    "y_size = train_y.shape[1] \n",
    "\n",
    "graph = tf.Graph()\n",
    "with tf.Session(graph=graph) as sess:\n",
    "  X = tf.placeholder(\"float\", shape=[None, x_size])\n",
    "  y = tf.placeholder(\"float\", shape=[None, y_size])"
   ]
  },
  {
   "cell_type": "code",
   "execution_count": 53,
   "metadata": {
    "collapsed": true
   },
   "outputs": [],
   "source": [
    "def fc_layer(input, size_in, size_out, name=\"fc\"):\n",
    "  with tf.Session(graph=graph) as sess:\n",
    "    with tf.name_scope(name):\n",
    "      w = tf.Variable(tf.truncated_normal([size_in, size_out], stddev=0.1), name=\"W\")\n",
    "      b = tf.Variable(tf.constant(0.1, shape=[size_out]), name=\"B\")\n",
    "      act = tf.matmul(input, w) + b\n",
    "      tf.summary.histogram(\"weights\", w)\n",
    "      tf.summary.histogram(\"biases\", b)\n",
    "      tf.summary.histogram(\"activations\", act)\n",
    "      return act"
   ]
  },
  {
   "cell_type": "code",
   "execution_count": 54,
   "metadata": {},
   "outputs": [],
   "source": [
    "with tf.Session(graph=graph) as sess:\n",
    "  fc1 = fc_layer(X, 62, 256, 'fc1') \n",
    "  relu = tf.nn.relu(fc1)\n",
    "  \n",
    "  fc2 = fc_layer(relu, 256, 512, 'fc2') \n",
    "  relu = tf.nn.relu(fc2)\n",
    "  \n",
    "  fc3 = fc_layer(relu, 512, 256, 'fc2') \n",
    "  relu = tf.nn.relu(fc3)\n",
    "  \n",
    "  fc4 = fc_layer(relu, 256, 128, 'fc2') \n",
    "  relu = tf.nn.relu(fc4)\n",
    "  \n",
    "  logits = fc_layer(relu, 128, 1, \"fc2\")"
   ]
  },
  {
   "cell_type": "code",
   "execution_count": null,
   "metadata": {
    "collapsed": true
   },
   "outputs": [],
   "source": []
  },
  {
   "cell_type": "code",
   "execution_count": 55,
   "metadata": {},
   "outputs": [],
   "source": [
    "with tf.Session(graph=graph) as sess:\n",
    "    cost    = tf.reduce_mean(tf.square(y - logits))\n",
    "    optimizer = tf.train.AdamOptimizer(0.001).minimize(cost)\n",
    "    writer = tf.summary.FileWriter('./summary/main', sess.graph)"
   ]
  },
  {
   "cell_type": "code",
   "execution_count": 56,
   "metadata": {},
   "outputs": [],
   "source": [
    "train_X.reset_index(drop=True, inplace=True)"
   ]
  },
  {
   "cell_type": "code",
   "execution_count": 57,
   "metadata": {},
   "outputs": [],
   "source": [
    "train_y = train_y/1000000"
   ]
  },
  {
   "cell_type": "code",
   "execution_count": 58,
   "metadata": {
    "collapsed": true
   },
   "outputs": [],
   "source": [
    "def iterate_minibatches(inputs, targets, batchsize): #Using python generator\n",
    "    assert inputs.shape[0] == targets.shape[0]\n",
    "    m = inputs.shape[0] \n",
    "    indices = np.arange(m)\n",
    "    np.random.shuffle(indices)\n",
    "    for index in range(0, m - batchsize + 1, batchsize): # 1 is when SGD\n",
    "        batch = indices[index:index + batchsize]\n",
    "        yield inputs[batch], targets[batch]\n",
    "    if m % batchsize != 0:\n",
    "        batch = indices[math.floor(m/batchsize)*batchsize:m]\n",
    "        yield inputs[batch], targets[batch]"
   ]
  },
  {
   "cell_type": "code",
   "execution_count": 59,
   "metadata": {},
   "outputs": [
    {
     "name": "stdout",
     "output_type": "stream",
     "text": [
      "479067.22\n",
      "40.312386\n",
      "159.00645\n",
      "5.0267406\n"
     ]
    }
   ],
   "source": [
    "with tf.Session(graph=graph) as sess:\n",
    "  sess.run(tf.global_variables_initializer())\n",
    "  for epoch in range(200):\n",
    "    for minibatch in iterate_minibatches(np.array(train_X), train_y, 64):\n",
    "      minibatch_X, minibatch_Y = minibatch \n",
    "      sess.run(optimizer, feed_dict={X: minibatch_X, y: minibatch_Y})\n",
    "      cos = sess.run(cost, feed_dict={X: minibatch_X, y: minibatch_Y})\n",
    "    if epoch%50==0:\n",
    "      print(cos) \n",
    "      \n",
    "  saver = tf.train.Saver()\n",
    "  saver.save(sess, \"./saved_model/model\")"
   ]
  },
  {
   "cell_type": "code",
   "execution_count": 60,
   "metadata": {},
   "outputs": [
    {
     "name": "stdout",
     "output_type": "stream",
     "text": [
      "INFO:tensorflow:Restoring parameters from ./saved_model/model\n"
     ]
    }
   ],
   "source": [
    "with tf.Session(graph=graph) as sess:\n",
    "  sess.run(tf.global_variables_initializer())\n",
    "  saver = tf.train.Saver()\n",
    "  saver.restore(sess, './saved_model/model')\n",
    "      \n",
    "  pred = sess.run(logits, feed_dict={X: test_X})"
   ]
  },
  {
   "cell_type": "code",
   "execution_count": 61,
   "metadata": {},
   "outputs": [
    {
     "data": {
      "text/plain": [
       "array([[ 1.13722086e+06],\n",
       "       [ 1.14965677e+06],\n",
       "       [ 3.98266459e+06],\n",
       "       [ 7.37425327e+05],\n",
       "       [ 1.16325235e+06],\n",
       "       [ 1.81014872e+06],\n",
       "       [ 9.00724888e+05],\n",
       "       [ 3.69154423e+05],\n",
       "       [ 1.84930277e+06],\n",
       "       [ 1.24044657e+06],\n",
       "       [ 8.93095493e+05],\n",
       "       [-7.14112759e+05],\n",
       "       [-8.76000524e+03],\n",
       "       [ 1.99980229e+05],\n",
       "       [-5.15840054e+05],\n",
       "       [-2.30165035e+05],\n",
       "       [-5.91140091e+04],\n",
       "       [ 1.86382914e+06],\n",
       "       [ 1.78298044e+06],\n",
       "       [-6.04218960e+05],\n",
       "       [-1.92964107e+05],\n",
       "       [-1.51370382e+06],\n",
       "       [ 2.40591288e+06],\n",
       "       [ 2.11422586e+06],\n",
       "       [-3.78634787e+06],\n",
       "       [-3.31921530e+06],\n",
       "       [-1.68820333e+06],\n",
       "       [ 1.90441751e+06],\n",
       "       [ 9.00358677e+05],\n",
       "       [ 1.52612162e+06],\n",
       "       [-4.86405879e+05],\n",
       "       [ 1.26217508e+06],\n",
       "       [-2.10408163e+06],\n",
       "       [-4.81355220e+05],\n",
       "       [-7.56730556e+05],\n",
       "       [-1.51643515e+06],\n",
       "       [-7.24061489e+05],\n",
       "       [ 2.38142461e+05],\n",
       "       [ 2.40127420e+06],\n",
       "       [ 1.81852788e+05],\n",
       "       [ 1.09707499e+06],\n",
       "       [-1.38568258e+06],\n",
       "       [ 1.32488871e+06],\n",
       "       [ 2.11752176e+06],\n",
       "       [-3.43934566e+05],\n",
       "       [-2.21742183e+05],\n",
       "       [ 2.26425827e+04],\n",
       "       [-8.44148159e+05],\n",
       "       [ 1.25404215e+06],\n",
       "       [ 2.92993021e+06],\n",
       "       [-2.44340450e+05],\n",
       "       [-9.35700893e+05],\n",
       "       [ 4.33775395e+05],\n",
       "       [ 1.77807474e+06],\n",
       "       [-4.49971706e+05],\n",
       "       [ 8.06578159e+05],\n",
       "       [ 1.88444585e+05],\n",
       "       [ 1.28393620e+05],\n",
       "       [-1.11512691e+05],\n",
       "       [ 5.32469273e+05],\n",
       "       [ 1.81471109e+06],\n",
       "       [-6.39968216e+04],\n",
       "       [-1.76611471e+06],\n",
       "       [ 5.68861485e+05],\n",
       "       [ 1.39892435e+06],\n",
       "       [ 2.98346013e+05],\n",
       "       [-3.05238277e+05],\n",
       "       [-1.05760127e+05],\n",
       "       [-5.56298733e+05],\n",
       "       [ 2.86698043e+04],\n",
       "       [ 3.42710942e+05],\n",
       "       [ 2.61933756e+06],\n",
       "       [-6.41740322e+05],\n",
       "       [ 6.13234043e+05],\n",
       "       [-1.50781393e+06],\n",
       "       [ 1.65199137e+06],\n",
       "       [ 1.48095560e+06],\n",
       "       [ 5.46431065e+05],\n",
       "       [ 2.50234842e+06],\n",
       "       [ 1.28970194e+06],\n",
       "       [-4.91548091e+05],\n",
       "       [-1.15352011e+06],\n",
       "       [ 2.16528773e+03],\n",
       "       [-2.80902243e+06],\n",
       "       [ 1.12689066e+06],\n",
       "       [-4.61686641e+05],\n",
       "       [ 5.96830845e+05],\n",
       "       [-2.80763179e+05],\n",
       "       [-1.08876181e+06],\n",
       "       [-1.09781027e+06],\n",
       "       [ 4.69084233e+05],\n",
       "       [ 1.11903238e+06],\n",
       "       [ 9.91011143e+05],\n",
       "       [-1.35316610e+06],\n",
       "       [-5.53590298e+05],\n",
       "       [ 1.09191751e+06],\n",
       "       [-4.84590083e+05],\n",
       "       [-1.99372798e+05],\n",
       "       [ 9.01106358e+05],\n",
       "       [ 6.70835972e+05],\n",
       "       [-7.60011196e+05],\n",
       "       [ 1.17019510e+06],\n",
       "       [-1.28910208e+06],\n",
       "       [ 3.83441019e+06],\n",
       "       [-7.28974819e+05],\n",
       "       [-2.40866232e+06],\n",
       "       [-1.64727718e+05],\n",
       "       [-2.71927023e+06],\n",
       "       [ 2.79623270e+06],\n",
       "       [-3.09342891e+05],\n",
       "       [-1.80197287e+06],\n",
       "       [ 1.61944437e+06],\n",
       "       [-5.73731899e+05],\n",
       "       [-1.29470968e+06],\n",
       "       [-2.00898677e+05],\n",
       "       [ 1.77771062e+05],\n",
       "       [-3.31422359e+05],\n",
       "       [ 1.48710489e+06],\n",
       "       [-8.00813198e+05],\n",
       "       [ 1.30267191e+06],\n",
       "       [ 2.09063578e+06],\n",
       "       [-2.93504268e+05],\n",
       "       [-9.78272915e+05],\n",
       "       [ 6.06626987e+05],\n",
       "       [ 7.34785557e+05],\n",
       "       [-1.02568197e+06],\n",
       "       [ 6.81746006e+05],\n",
       "       [-3.69088888e+06],\n",
       "       [ 6.75108433e+05],\n",
       "       [-2.75239497e+05],\n",
       "       [ 8.91127110e+05],\n",
       "       [ 2.00515604e+06],\n",
       "       [ 1.56065434e+05],\n",
       "       [-1.56874228e+06],\n",
       "       [ 2.33503789e+05],\n",
       "       [-6.17707729e+05],\n",
       "       [ 4.13793802e+06],\n",
       "       [-5.37429154e+04],\n",
       "       [ 2.76113749e+06],\n",
       "       [-4.47358638e+05],\n",
       "       [-5.57481289e+05],\n",
       "       [ 9.13038731e+05],\n",
       "       [-9.07258511e+05],\n",
       "       [ 2.25611734e+06],\n",
       "       [ 1.46151590e+06],\n",
       "       [ 5.15425205e+05],\n",
       "       [ 1.15592813e+06],\n",
       "       [ 2.06213236e+06],\n",
       "       [-2.06330806e+05],\n",
       "       [-6.86657858e+06],\n",
       "       [ 3.46739262e+05],\n",
       "       [-8.65418911e+05],\n",
       "       [ 1.01345682e+06],\n",
       "       [ 5.54258823e+05],\n",
       "       [ 8.72343540e+05],\n",
       "       [-3.48208761e+06],\n",
       "       [ 1.86164713e+06],\n",
       "       [-2.85308981e+06],\n",
       "       [-3.93822789e+03],\n",
       "       [-1.03790426e+06],\n",
       "       [ 3.04960698e+05],\n",
       "       [-1.14737082e+06],\n",
       "       [-7.00318813e+05],\n",
       "       [-1.45874166e+06],\n",
       "       [ 9.44962204e+04],\n",
       "       [ 6.48252964e+05],\n",
       "       [ 4.96092290e+05],\n",
       "       [ 1.10853434e+06],\n",
       "       [ 3.54429692e+05],\n",
       "       [ 8.58750045e+04],\n",
       "       [-1.29807979e+05],\n",
       "       [ 1.81512308e+06],\n",
       "       [-2.47104025e+06],\n",
       "       [-5.39565384e+04],\n",
       "       [ 1.71475077e+06],\n",
       "       [-9.64343452e+06],\n",
       "       [ 2.45825052e+06],\n",
       "       [ 2.56826639e+06],\n",
       "       [ 1.07656717e+06],\n",
       "       [-4.53814840e+06],\n",
       "       [-6.02899075e+05],\n",
       "       [-9.02543545e+05],\n",
       "       [-4.25702810e+06],\n",
       "       [ 8.26612949e+05],\n",
       "       [ 5.25192916e+04],\n",
       "       [ 2.06857157e+06],\n",
       "       [ 1.20352030e+06],\n",
       "       [ 2.67161417e+06],\n",
       "       [ 4.38370407e+04],\n",
       "       [-4.25141841e+05],\n",
       "       [ 2.00894022e+06],\n",
       "       [ 8.20539951e+05],\n",
       "       [ 3.56047124e+05],\n",
       "       [ 6.98133945e+05],\n",
       "       [ 1.52169657e+06],\n",
       "       [ 4.35743779e+05],\n",
       "       [ 1.76156473e+06],\n",
       "       [ 2.57173014e+06],\n",
       "       [ 1.91433573e+06],\n",
       "       [-7.90650845e+05],\n",
       "       [ 1.18182230e+06],\n",
       "       [ 3.09142923e+06],\n",
       "       [ 9.61760044e+05],\n",
       "       [-1.52606344e+06],\n",
       "       [ 3.10806131e+06],\n",
       "       [-9.78868008e+05],\n",
       "       [ 4.40885991e+05],\n",
       "       [ 3.76142949e+05],\n",
       "       [ 1.11169291e+06],\n",
       "       [-2.73260641e+06],\n",
       "       [ 5.44970560e+06],\n",
       "       [-1.74151754e+06],\n",
       "       [-7.22993374e+05],\n",
       "       [ 1.03933573e+06],\n",
       "       [ 7.49433994e+05],\n",
       "       [-1.52913046e+06],\n",
       "       [ 8.47166538e+05],\n",
       "       [ 9.22651768e+05],\n",
       "       [ 1.69924784e+06],\n",
       "       [-2.16058493e+06],\n",
       "       [ 1.77477884e+06],\n",
       "       [-3.63709956e+05],\n",
       "       [ 6.96684361e+05],\n",
       "       [-1.81305075e+06],\n",
       "       [ 7.70536900e+05],\n",
       "       [ 2.04406595e+06],\n",
       "       [ 1.30752420e+06],\n",
       "       [-2.30561763e+05],\n",
       "       [ 2.41941899e+05],\n",
       "       [-2.26716548e+05],\n",
       "       [ 4.34904546e+05],\n",
       "       [ 1.28875589e+06],\n",
       "       [-5.09472799e+06],\n",
       "       [-7.40251064e+05],\n",
       "       [-3.50193167e+06],\n",
       "       [-2.10534811e+06],\n",
       "       [-1.03860617e+06],\n",
       "       [-6.81519985e+05],\n",
       "       [-1.61581564e+06],\n",
       "       [ 8.56443882e+05],\n",
       "       [ 1.32281351e+06],\n",
       "       [ 9.33302402e+05],\n",
       "       [ 2.94593668e+06],\n",
       "       [-1.22885275e+06],\n",
       "       [ 2.24810648e+06],\n",
       "       [ 3.08947611e+06],\n",
       "       [-3.47871333e+05],\n",
       "       [ 1.06098795e+06],\n",
       "       [ 2.83323735e+05],\n",
       "       [ 8.51255894e+05],\n",
       "       [-6.51917934e+05],\n",
       "       [-8.67951870e+05],\n",
       "       [-4.41255122e+05],\n",
       "       [ 1.97180033e+06],\n",
       "       [ 1.41445780e+06],\n",
       "       [ 3.11340189e+06],\n",
       "       [ 5.06555033e+06],\n",
       "       [ 2.59825200e+05],\n",
       "       [-1.34344625e+06],\n",
       "       [-5.98311722e+04],\n",
       "       [-1.89917135e+06],\n",
       "       [-9.96064663e+05],\n",
       "       [-1.03379756e+05],\n",
       "       [-7.73133755e+05],\n",
       "       [ 7.24936008e+05],\n",
       "       [-1.14489126e+06],\n",
       "       [ 7.12339878e+05],\n",
       "       [-2.71232748e+06],\n",
       "       [-1.54969722e+05],\n",
       "       [ 1.10143900e+06],\n",
       "       [ 1.75619364e+06],\n",
       "       [ 5.91200352e+05],\n",
       "       [ 4.06614751e+05],\n",
       "       [-7.55006313e+05],\n",
       "       [ 3.75242680e+05],\n",
       "       [ 1.96969461e+06],\n",
       "       [ 6.07466221e+05],\n",
       "       [ 1.76146001e+05],\n",
       "       [ 2.10442972e+06],\n",
       "       [ 4.93101567e+05],\n",
       "       [-1.64203024e+06],\n",
       "       [ 5.76628208e+05],\n",
       "       [ 2.45314091e+05],\n",
       "       [ 3.68933171e+05],\n",
       "       [-1.31761312e+06],\n",
       "       [ 5.19606113e+05],\n",
       "       [-2.88733053e+06],\n",
       "       [ 9.36300755e+05],\n",
       "       [ 3.78645390e+05],\n",
       "       [ 6.23777866e+05],\n",
       "       [ 2.22903299e+06],\n",
       "       [ 8.97825718e+05],\n",
       "       [-2.97242671e+05],\n",
       "       [-4.14517355e+06],\n",
       "       [ 1.32575846e+06],\n",
       "       [-7.12052822e+05],\n",
       "       [ 1.49725199e+06],\n",
       "       [-6.03120327e+05],\n",
       "       [ 6.13584995e+05],\n",
       "       [ 1.52094889e+06],\n",
       "       [ 1.11929178e+06],\n",
       "       [ 9.13605392e+04],\n",
       "       [ 6.37053013e+05],\n",
       "       [-2.56134176e+06],\n",
       "       [ 2.81858891e+05],\n",
       "       [ 4.59808207e+06],\n",
       "       [ 1.51598978e+06],\n",
       "       [-1.92358541e+06],\n",
       "       [ 5.15013218e+05],\n",
       "       [ 2.34374857e+06],\n",
       "       [ 2.13415384e+06],\n",
       "       [-1.96032858e+06],\n",
       "       [ 1.15186930e+06],\n",
       "       [ 7.06861973e+05],\n",
       "       [-3.11059713e+06],\n",
       "       [-9.78181362e+05],\n",
       "       [ 8.16191196e+05],\n",
       "       [ 1.55911112e+06],\n",
       "       [ 2.83672953e+06],\n",
       "       [ 1.12181157e+05],\n",
       "       [ 1.01322794e+06],\n",
       "       [ 7.43956089e+05],\n",
       "       [ 6.78953648e+05],\n",
       "       [-1.13552237e+06],\n",
       "       [-5.96780300e+05],\n",
       "       [ 1.30676126e+06],\n",
       "       [-1.01228267e+05],\n",
       "       [-6.95359707e+05],\n",
       "       [ 1.74203348e+06],\n",
       "       [-1.12263632e+06],\n",
       "       [ 7.26736546e+05],\n",
       "       [ 5.78642368e+05],\n",
       "       [-1.31048727e+06],\n",
       "       [ 2.12069559e+06],\n",
       "       [ 2.97820902e+06],\n",
       "       [-1.76127768e+06],\n",
       "       [-1.88356161e+06],\n",
       "       [-2.57287741e+06],\n",
       "       [ 1.46729898e+06],\n",
       "       [ 1.04565287e+06],\n",
       "       [ 2.18632364e+06],\n",
       "       [-8.58537197e+05],\n",
       "       [-2.15425044e+05],\n",
       "       [-4.87336665e+05],\n",
       "       [ 1.04473734e+06],\n",
       "       [ 1.84492350e+06],\n",
       "       [ 2.94889897e+05],\n",
       "       [-8.38822842e+05],\n",
       "       [ 6.35191441e+05],\n",
       "       [-1.24267721e+06],\n",
       "       [ 2.27342081e+06],\n",
       "       [ 2.43095255e+06],\n",
       "       [ 4.41863871e+06],\n",
       "       [ 7.78501987e+05],\n",
       "       [ 8.28093052e+05],\n",
       "       [-2.40319759e+05],\n",
       "       [ 1.46780252e+06],\n",
       "       [ 2.73373270e+06],\n",
       "       [-9.67042446e+05],\n",
       "       [ 2.52796793e+06],\n",
       "       [ 1.09072733e+06],\n",
       "       [ 1.83645487e+06],\n",
       "       [-8.24418545e+05],\n",
       "       [-1.21078634e+06],\n",
       "       [ 1.66808939e+06],\n",
       "       [ 1.11845464e+05],\n",
       "       [ 8.93705845e+05],\n",
       "       [-3.08725119e+06],\n",
       "       [ 2.13397074e+06],\n",
       "       [ 4.85594243e+05],\n",
       "       [ 2.85963506e+05],\n",
       "       [ 8.89349461e+05],\n",
       "       [-8.08473110e+05],\n",
       "       [ 3.74327153e+05],\n",
       "       [ 4.98391581e+06],\n",
       "       [ 4.38978642e+05],\n",
       "       [-9.28285122e+05],\n",
       "       [-9.20686245e+05],\n",
       "       [-1.05272055e+06],\n",
       "       [-9.54408169e+05],\n",
       "       [ 4.76088017e+05],\n",
       "       [-9.64356899e+05],\n",
       "       [-7.74476528e+05],\n",
       "       [-4.24226314e+05],\n",
       "       [ 8.88777256e+05],\n",
       "       [-3.91847163e+05],\n",
       "       [-2.04382467e+06],\n",
       "       [-1.90780783e+06],\n",
       "       [-2.67538595e+06],\n",
       "       [ 2.61675882e+06],\n",
       "       [ 6.58567905e+05],\n",
       "       [ 4.05638188e+05],\n",
       "       [ 2.63778543e+06],\n",
       "       [-6.42945766e+05],\n",
       "       [-2.03811789e+06],\n",
       "       [ 7.11164951e+05],\n",
       "       [-8.59254360e+05],\n",
       "       [ 1.53741312e+06],\n",
       "       [ 1.16033792e+06],\n",
       "       [-8.32063198e+05],\n",
       "       [-3.95471334e+06],\n",
       "       [ 2.68060160e+06],\n",
       "       [ 5.15379429e+05],\n",
       "       [ 1.52735376e+06],\n",
       "       [-4.09410030e+05],\n",
       "       [ 7.33801723e+03],\n",
       "       [ 3.95597905e+05],\n",
       "       [ 1.08082438e+06],\n",
       "       [ 2.85134745e+06],\n",
       "       [-1.92580521e+04],\n",
       "       [-4.84803706e+05],\n",
       "       [ 9.67070103e+05],\n",
       "       [ 1.14347696e+06],\n",
       "       [ 2.58715677e+06],\n",
       "       [-3.10716182e+05],\n",
       "       [ 1.85973215e+06],\n",
       "       [ 2.65120000e+05],\n",
       "       [ 8.52919102e+05],\n",
       "       [ 1.90856409e+06],\n",
       "       [ 2.22319096e+05],\n",
       "       [ 6.85545444e+05],\n",
       "       [ 9.52513218e+05],\n",
       "       [ 2.29551762e+05],\n",
       "       [-1.14082479e+06],\n",
       "       [ 1.17541361e+06],\n",
       "       [-3.69493037e+05],\n",
       "       [ 1.51000834e+06],\n",
       "       [-5.90547085e+05],\n",
       "       [-1.07472372e+06],\n",
       "       [ 1.29820317e+05],\n",
       "       [-4.92066890e+05],\n",
       "       [ 7.17894077e+05],\n",
       "       [-6.80696011e+05],\n",
       "       [-1.09787130e+06],\n",
       "       [ 1.31219339e+06],\n",
       "       [ 1.20858622e+06],\n",
       "       [ 3.01357889e+06],\n",
       "       [-2.90910274e+05]])"
      ]
     },
     "execution_count": 61,
     "metadata": {},
     "output_type": "execute_result"
    }
   ],
   "source": [
    "pred*1000000"
   ]
  },
  {
   "cell_type": "code",
   "execution_count": 84,
   "metadata": {},
   "outputs": [
    {
     "data": {
      "text/plain": [
       "array([105900, 163500, 135000, 214000, 115000, 154500, 172500, 178000,\n",
       "       158500, 383970, 162500, 135000, 350000, 205000, 185000, 361919,\n",
       "       194500, 275000, 136500, 127500, 269790, 165000, 207500, 158000,\n",
       "       143000, 280000, 198500, 122000, 135000, 143500, 120500, 147000,\n",
       "       145000, 260000, 219500, 161500,  95000, 188500, 112000, 142500,\n",
       "       134000, 107900, 128500, 167500, 147000, 129000, 159434, 446261,\n",
       "       190000, 115000, 237000, 133000, 105000, 141000, 118000, 143000,\n",
       "       190000, 177500, 325000, 173900, 118500, 229000, 116000, 207500,\n",
       "        90000, 121600, 163990, 130000, 165000, 174000, 451950, 220000,\n",
       "       142125, 107000, 385000, 124000,  82500, 115000, 187500, 128000,\n",
       "       158000, 370878, 161000, 410000,  90000, 205950, 145900, 184000,\n",
       "       124500,  93500, 180000, 102776, 125000, 153000, 240000, 175500,\n",
       "       254900,  80000, 134000, 157000, 257000, 274000, 137500, 132250,\n",
       "       424870, 285000, 148500, 582933, 219210, 208500, 160000, 135500,\n",
       "       148000, 250000, 206300,  83000, 113000, 129500,  81000, 260000,\n",
       "       174000, 200000, 223500, 315500,  89471, 177000, 185000, 268000,\n",
       "       423000, 160000, 233170, 117000, 137000, 216000, 185850, 155000,\n",
       "       112000, 200000, 260000, 211000, 189000, 100000, 200000, 128950,\n",
       "       377426, 146000,  67000, 144000, 271000, 240000, 438780, 325000,\n",
       "        97000, 359100, 187500, 141000, 129000, 755000, 148000, 224000,\n",
       "        85000, 367294, 230000, 210000, 175500, 153500, 184750, 167240,\n",
       "       139000, 160000, 149500, 136905, 270000, 144000, 289000, 250000,\n",
       "       320000, 326000, 165000, 232000, 162000,  34900,  90350, 120000,\n",
       "       129500, 109900, 233230, 224000, 188000, 135000, 123600, 139000,\n",
       "       195000, 118500, 110000, 232000, 200141, 244600, 244000, 130250,\n",
       "       243000, 625000, 145500, 215000, 109500, 135000, 172500, 130500,\n",
       "       227875, 193000, 228000, 134000, 140000, 175000, 227000, 110000,\n",
       "       127500, 159500, 195000, 145000, 167500, 123000, 224900,  83000,\n",
       "       143000, 202900, 225000, 136000, 162000, 201800, 155900, 190000,\n",
       "       256000, 210000,  87000, 237500, 187500, 154000, 129000, 235000,\n",
       "       437154, 154000, 107500, 147000,  84500, 169990, 164500, 105000,\n",
       "       159000, 157500, 214900,  61000, 180500, 145000, 267000, 175000,\n",
       "       244400, 102000, 205000, 230000, 256000, 165500, 109900, 270000,\n",
       "       130000, 130000, 175000, 317000, 324000, 173000, 110000, 142953,\n",
       "       218000, 188000, 200000, 214000, 138000, 165000,  84000, 165600,\n",
       "       213000, 157000, 169500, 189000, 117500, 129500, 303477, 155000,\n",
       "       108000, 118500, 157000, 241000, 177000, 164900, 239000, 189950,\n",
       "       152000, 143000, 180500, 133000, 217500, 131500, 116000, 170000,\n",
       "       259000, 181000, 153337, 185000,  93000, 197900, 115000, 230000,\n",
       "       119900, 132500,  86000, 135000, 152000, 142000, 143900, 174000,\n",
       "       129900, 242000, 118000, 129900, 110500, 320000, 162000, 200500,\n",
       "       301000,  68500, 127000, 127000, 135500, 120500, 255500, 184000,\n",
       "       148000, 144500, 150500,  82500, 124500, 168500, 200100, 108000,\n",
       "       415298, 219500,  80500,  87500, 345000, 175900,  60000, 181500,\n",
       "       192140, 206000, 170000, 174000, 143000, 156000, 165000,  76500,\n",
       "       245350, 133900, 191000, 156000, 197900, 134500, 204000, 114500,\n",
       "       119500, 110000, 141000, 113000, 190000, 250580, 128500,  87000,\n",
       "       339750, 235000, 265900, 266000,  58500,  96500, 240000,  86000,\n",
       "       120000, 165500, 210000, 117000,  97000, 186500, 380000, 199900,\n",
       "       430000, 120000, 315000, 156932, 290000, 176000, 126000, 140000,\n",
       "       325000, 253293,  98600,  80000, 132000, 173000, 215000,  85000,\n",
       "       184000, 318000, 145000, 109008, 140000, 157500, 167000,  52500,\n",
       "       201000, 125000, 100000, 185000, 194000, 187500, 147500, 179200,\n",
       "       112000, 155000, 152000, 169500, 224900, 155000, 140000, 106250,\n",
       "       144000, 148000, 180000, 122000, 129000, 239500])"
      ]
     },
     "execution_count": 84,
     "metadata": {},
     "output_type": "execute_result"
    }
   ],
   "source": [
    "test_y"
   ]
  },
  {
   "cell_type": "code",
   "execution_count": 74,
   "metadata": {},
   "outputs": [
    {
     "data": {
      "text/plain": [
       "<matplotlib.axes._subplots.AxesSubplot at 0x11aa189e8>"
      ]
     },
     "execution_count": 74,
     "metadata": {},
     "output_type": "execute_result"
    },
    {
     "data": {
      "image/png": "[encoded data removed]",
      "text/plain": [
       "<Figure size 432x288 with 1 Axes>"
      ]
     },
     "metadata": {},
     "output_type": "display_data"
    }
   ],
   "source": [
    "data.plot.scatter(x=60, y=10)"
   ]
  },
  {
   "cell_type": "code",
   "execution_count": 85,
   "metadata": {},
   "outputs": [],
   "source": [
    "x = pd.DataFrame(pred)\n",
    "y = pd.DataFrame(test_y)"
   ]
  },
  {
   "cell_type": "code",
   "execution_count": 106,
   "metadata": {},
   "outputs": [
    {
     "data": {
      "text/plain": [
       "(438, 1)"
      ]
     },
     "execution_count": 106,
     "metadata": {},
     "output_type": "execute_result"
    }
   ],
   "source": [
    "x.shape\n"
   ]
  },
  {
   "cell_type": "code",
   "execution_count": 107,
   "metadata": {},
   "outputs": [
    {
     "data": {
      "text/plain": [
       "(438, 1)"
      ]
     },
     "execution_count": 107,
     "metadata": {},
     "output_type": "execute_result"
    }
   ],
   "source": [
    "y.shape"
   ]
  },
  {
   "cell_type": "code",
   "execution_count": 113,
   "metadata": {},
   "outputs": [
    {
     "data": {
      "image/png": "[encoded data removed]",
      "text/plain": [
       "<Figure size 432x288 with 1 Axes>"
      ]
     },
     "metadata": {},
     "output_type": "display_data"
    }
   ],
   "source": [
    "plt.plot(x, 'r') \n",
    "plt.plot(y, 'b') \n",
    "plt.show()"
   ]
  },
  {
   "cell_type": "code",
   "execution_count": null,
   "metadata": {
    "collapsed": true
   },
   "outputs": [],
   "source": []
  }
 ],
 "metadata": {
  "kernelspec": {
   "display_name": "Python 3",
   "language": "python",
   "name": "python3"
  },
  "language_info": {
   "codemirror_mode": {
    "name": "ipython",
    "version": 3
   },
   "file_extension": ".py",
   "mimetype": "text/x-python",
   "name": "python",
   "nbconvert_exporter": "python",
   "pygments_lexer": "ipython3",
   "version": "3.6.3"
  }
 },
 "nbformat": 4,
 "nbformat_minor": 2
}
